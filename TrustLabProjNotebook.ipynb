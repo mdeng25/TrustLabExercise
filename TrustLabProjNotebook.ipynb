{
 "cells": [
  {
   "cell_type": "markdown",
   "metadata": {},
   "source": [
    "Importing packages and downloading data"
   ]
  },
  {
   "cell_type": "code",
   "execution_count": null,
   "metadata": {},
   "outputs": [],
   "source": [
    "import pandas as pd\n",
    "import matplotlib.pyplot as plt\n",
    "\n",
    "schoolData = pd.read_csv('Map_of_Schools.csv')\n",
    "bikeData = pd.read_csv('Bicycle_Parking.csv')\n",
    "\n"
   ]
  },
  {
   "cell_type": "markdown",
   "metadata": {},
   "source": [
    "Parsing Latitude and Longitude for school data"
   ]
  },
  {
   "cell_type": "code",
   "execution_count": null,
   "metadata": {},
   "outputs": [],
   "source": [
    "schoolDataLatLog = schoolData['Location 1'].str.strip('CA').str.strip('\\n').str.strip('()')                               \\\n",
    "                   .str.split(', ', expand=True)                   \\\n",
    "                   .rename(columns={0:'Latitude', 1:'Longitude'})\n",
    "\n",
    "schoolData['Latitude1'] = pd.to_numeric(schoolDataLatLog.iloc[:, 0])\n",
    "\n",
    "schoolData['Longitude1'] = pd.to_numeric(schoolDataLatLog.iloc[:, 1])"
   ]
  },
  {
   "cell_type": "markdown",
   "metadata": {},
   "source": [
    "Merging data and filtering for bike racks that are within .001 lattitude/longitude from schools. Also splitting public and private schools."
   ]
  },
  {
   "cell_type": "code",
   "execution_count": 6,
   "metadata": {},
   "outputs": [
    {
     "name": "stderr",
     "output_type": "stream",
     "text": [
      "/var/folders/2_/_fl36cg12ql3zcpfpz55yr040000gn/T/ipykernel_62102/107832249.py:10: UserWarning: Boolean Series key will be reindexed to match DataFrame index.\n",
      "  mergedTableFiltered = mergedTableFiltered[filter2]\n",
      "/var/folders/2_/_fl36cg12ql3zcpfpz55yr040000gn/T/ipykernel_62102/107832249.py:11: UserWarning: Boolean Series key will be reindexed to match DataFrame index.\n",
      "  mergedTableFiltered = mergedTableFiltered[filter3]\n",
      "/var/folders/2_/_fl36cg12ql3zcpfpz55yr040000gn/T/ipykernel_62102/107832249.py:12: UserWarning: Boolean Series key will be reindexed to match DataFrame index.\n",
      "  mergedTableFiltered = mergedTableFiltered[filter4]\n"
     ]
    }
   ],
   "source": [
    "mergedTable = pd.merge(schoolData, bikeData, how='cross')\n",
    "\n",
    "filter1 = mergedTable['LAT'] - .0005 <= mergedTable['Latitude1']\n",
    "filter2 = mergedTable['Latitude1'] <= mergedTable['LAT'] + .0005\n",
    "\n",
    "filter3 = mergedTable['LON'] - .0005 <= mergedTable['Longitude1']\n",
    "filter4 = mergedTable['Longitude1'] <= mergedTable['LON'] + .0005\n",
    "\n",
    "mergedTableFiltered = mergedTable[filter1]\n",
    "mergedTableFiltered = mergedTableFiltered[filter2]\n",
    "mergedTableFiltered = mergedTableFiltered[filter3]\n",
    "mergedTableFiltered = mergedTableFiltered[filter4]\n",
    "\n",
    "filterPrivate = mergedTableFiltered['CCSF Entity'] == \"Private\"\n",
    "filterNotPricate = mergedTableFiltered['CCSF Entity'] != \"Private\"\n",
    "\n",
    "Private = mergedTableFiltered[filterPrivate]\n",
    "NotPrivate = mergedTableFiltered[filterNotPricate]"
   ]
  },
  {
   "cell_type": "markdown",
   "metadata": {},
   "source": [
    "Making graph for Private/Public breakdown of number of bike racks that are close to them"
   ]
  },
  {
   "cell_type": "code",
   "execution_count": 8,
   "metadata": {},
   "outputs": [
    {
     "data": {
      "text/plain": [
       "Text(0, 0.5, '# of bike racks near school type')"
      ]
     },
     "execution_count": 8,
     "metadata": {},
     "output_type": "execute_result"
    },
    {
     "data": {
      "image/png": "[encoded data removed]",
      "text/plain": [
       "<Figure size 432x288 with 1 Axes>"
      ]
     },
     "metadata": {
      "needs_background": "light"
     },
     "output_type": "display_data"
    }
   ],
   "source": [
    "mergedTableFiltered['CCSF Entity'].value_counts().plot(kind='bar');\n",
    "plt.ylabel(\"# of bike racks near school type\")"
   ]
  },
  {
   "cell_type": "markdown",
   "metadata": {},
   "source": [
    "Also showing number of bike racks near level of education"
   ]
  },
  {
   "cell_type": "code",
   "execution_count": 9,
   "metadata": {},
   "outputs": [
    {
     "data": {
      "text/plain": [
       "Text(0, 0.5, '# of bike racks near education type')"
      ]
     },
     "execution_count": 9,
     "metadata": {},
     "output_type": "execute_result"
    },
    {
     "data": {
      "image/png": "[encoded data removed]",
      "text/plain": [
       "<Figure size 432x288 with 1 Axes>"
      ]
     },
     "metadata": {
      "needs_background": "light"
     },
     "output_type": "display_data"
    }
   ],
   "source": [
    "mergedTableFiltered['Grade Range'].value_counts().plot(kind='bar');\n",
    "plt.ylabel(\"# of bike racks near education type\")"
   ]
  },
  {
   "cell_type": "markdown",
   "metadata": {},
   "source": [
    "For this project, I attempted to find out whether bike racks in the city of San Franscisco favored private schools in terms of location over public schools. My thought process inlcuded the following: first, collecting and cleaning the data sets (which included parsing latitude and longitude into their own columns), then determining which bike racks were 'near' all schools by doing a cross join of the two data sets then filtering out the ones that were too far, then showing a bar graph which displayed that private schools had an overwheling majority of the 'near' bike racks.\n",
    "\n",
    "For this, I performed a Chi-squared test with 236 bike racks near privates and 94 near publics, with expected even split at 163 apiece. This gave me a chi sqared value fo 58.417 with 1 degree of freedom and a two-tailed p-value less than 0.0001. This means that this was extremely statistically significant.\n",
    "\n",
    "Secondly, I make a graph that shows number of bike racks close to each level of education. While I would have liked to breakdown the x-axis more until it was more comprehensive groups, I did not have time, but it was clear from this preliminary analysis that the majority of bike racks were closer to Pre-K schools. This was also statisically significant according to the Chi-squared test.\n",
    "\n",
    "In conclusion, we can say that private schools definetly have more access to bike racks in the city of San Franscisco, which would be a cause for concern and a possible target to public policy. This is because many public school students tend to have lower family income than private school students so they would be more likely to ride a bike to school rather than drive. Additionally, the education level breakdown shows that most of the bike racks are poorly placed as Pre-K is not the intended target consumer for most bike racks.\n",
    "\n",
    "Assumptions: I assumed 'near' for a bike rack was within .001 latitude and longitude (.0005 in either direction). "
   ]
  }
 ],
 "metadata": {
  "interpreter": {
   "hash": "b0fa6594d8f4cbf19f97940f81e996739fb7646882a419484c72d19e05852a7e"
  },
  "kernelspec": {
   "display_name": "Python 3.9.10 64-bit",
   "language": "python",
   "name": "python3"
  },
  "language_info": {
   "codemirror_mode": {
    "name": "ipython",
    "version": 3
   },
   "file_extension": ".py",
   "mimetype": "text/x-python",
   "name": "python",
   "nbconvert_exporter": "python",
   "pygments_lexer": "ipython3",
   "version": "3.9.10"
  },
  "orig_nbformat": 4
 },
 "nbformat": 4,
 "nbformat_minor": 2
}
